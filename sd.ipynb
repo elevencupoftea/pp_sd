{
 "cells": [
  {
   "cell_type": "markdown",
   "id": "b9f445ee0fb2e062",
   "metadata": {
    "collapsed": false
   },
   "source": [
    "# Prepare Machine"
   ]
  },
  {
   "cell_type": "code",
   "execution_count": null,
   "id": "100bee7c601db69e",
   "metadata": {
    "ExecuteTime": {
     "end_time": "2023-09-14T07:36:03.798442695Z",
     "start_time": "2023-09-14T07:36:03.754273507Z"
    },
    "collapsed": false
   },
   "outputs": [],
   "source": [
    "from subprocess import call\n",
    "call(\"./install.sh\", shell=True)"
   ]
  },
  {
   "cell_type": "markdown",
   "id": "3ba8053e",
   "metadata": {},
   "source": [
    "## Start"
   ]
  },
  {
   "cell_type": "markdown",
   "id": "a18345e2",
   "metadata": {},
   "source": [
    "### Parameters"
   ]
  },
  {
   "cell_type": "code",
   "execution_count": 74,
   "id": "41837fa0",
   "metadata": {},
   "outputs": [],
   "source": [
    "# START_PATH = \"/notebooks/\" # Don't change. For dev only. \n",
    "START_PATH = \"/home/core/pp_sd/\" # Don't change. For dev only. "
   ]
  },
  {
   "cell_type": "code",
   "execution_count": 78,
   "id": "6bffa93e",
   "metadata": {},
   "outputs": [
    {
     "name": "stdout",
     "output_type": "stream",
     "text": [
      "Python 3.10.12 (main, Jun 11 2023, 05:26:28) [GCC 11.4.0]\n",
      "Version: v1.6.0\n",
      "Commit hash: 5ef669de080814067961f28357256e8fe27544f4\n",
      "Installing clip\n",
      "Installing open_clip\n",
      "Installing xformers\n",
      "Cloning Stable Diffusion into /home/core/pp_sd/Stable/stable_diffusion/repositories/stable-diffusion-stability-ai...\n",
      "Cloning into '/home/core/pp_sd/Stable/stable_diffusion/repositories/stable-diffusion-stability-ai'...\n",
      "remote: Enumerating objects: 574, done.\u001b[K\n",
      "remote: Counting objects: 100% (328/328), done.\u001b[K\n",
      "remote: Compressing objects: 100% (105/105), done.\u001b[K\n",
      "remote: Total 574 (delta 252), reused 223 (delta 223), pack-reused 246\u001b[K\n",
      "Receiving objects: 100% (574/574), 73.44 MiB | 8.88 MiB/s, done.\n",
      "Resolving deltas: 100% (273/273), done.\n",
      "Cloning Stable Diffusion XL into /home/core/pp_sd/Stable/stable_diffusion/repositories/generative-models...\n",
      "Cloning into '/home/core/pp_sd/Stable/stable_diffusion/repositories/generative-models'...\n",
      "remote: Enumerating objects: 740, done.\u001b[K\n",
      "remote: Counting objects: 100% (563/563), done.\u001b[K\n",
      "remote: Compressing objects: 100% (283/283), done.\u001b[K\n",
      "remote: Total 740 (delta 340), reused 425 (delta 266), pack-reused 177\u001b[K\n",
      "Receiving objects: 100% (740/740), 22.31 MiB | 2.26 MiB/s, done.\n",
      "Resolving deltas: 100% (378/378), done.\n",
      "Cloning K-diffusion into /home/core/pp_sd/Stable/stable_diffusion/repositories/k-diffusion...\n",
      "Cloning into '/home/core/pp_sd/Stable/stable_diffusion/repositories/k-diffusion'...\n",
      "remote: Enumerating objects: 1047, done.\u001b[K\n",
      "remote: Counting objects: 100% (1047/1047), done.\u001b[K\n",
      "remote: Compressing objects: 100% (415/415), done.\u001b[K\n",
      "remote: Total 1047 (delta 718), reused 937 (delta 625), pack-reused 0\u001b[K\n",
      "Receiving objects: 100% (1047/1047), 201.23 KiB | 1.03 MiB/s, done.\n",
      "Resolving deltas: 100% (718/718), done.\n",
      "Cloning CodeFormer into /home/core/pp_sd/Stable/stable_diffusion/repositories/CodeFormer...\n",
      "Cloning into '/home/core/pp_sd/Stable/stable_diffusion/repositories/CodeFormer'...\n",
      "remote: Enumerating objects: 594, done.\u001b[K\n",
      "remote: Counting objects: 100% (245/245), done.\u001b[K\n",
      "remote: Compressing objects: 100% (98/98), done.\u001b[K\n",
      "remote: Total 594 (delta 176), reused 167 (delta 147), pack-reused 349\u001b[K\n",
      "Receiving objects: 100% (594/594), 17.31 MiB | 10.79 MiB/s, done.\n",
      "Resolving deltas: 100% (287/287), done.\n",
      "Cloning BLIP into /home/core/pp_sd/Stable/stable_diffusion/repositories/BLIP...\n",
      "Cloning into '/home/core/pp_sd/Stable/stable_diffusion/repositories/BLIP'...\n",
      "remote: Enumerating objects: 277, done.\u001b[K\n",
      "remote: Counting objects: 100% (165/165), done.\u001b[K165)\u001b[K\n",
      "remote: Compressing objects: 100% (30/30), done.\u001b[K\n",
      "remote: Total 277 (delta 137), reused 136 (delta 135), pack-reused 112\u001b[K\n",
      "Receiving objects: 100% (277/277), 7.03 MiB | 8.36 MiB/s, done.\n",
      "Resolving deltas: 100% (152/152), done.\n",
      "Installing requirements for CodeFormer\n",
      "Installing requirements\n",
      "Launching Web UI with arguments: --skip-torch-cuda-test --disable-console-progressbars --no-gradio-queue --no-hashing --disable-safe-unpickle --api --no-download-sd-model --xformers --opt-sub-quad-attention --enable-insecure-extension-access --port 6006 --listen\n",
      "WARNING:xformers:WARNING[XFORMERS]: xFormers can't load C++/CUDA extensions. xFormers was built for:\n",
      "    PyTorch 2.0.1+cu118 with CUDA 1108 (you have 2.2.0.dev20230913+rocm5.6)\n",
      "    Python  3.10.11 (you have 3.10.12)\n",
      "  Please reinstall xformers (see https://github.com/facebookresearch/xformers#installing-xformers)\n",
      "  Memory-efficient attention, SwiGLU, sparse and more won't be available.\n",
      "  Set XFORMERS_MORE_DETAILS=1 for more details\n",
      "No HIP GPUs are available: str\n",
      "Traceback (most recent call last):\n",
      "  File \"/home/core/pp_sd/Stable/stable_diffusion/modules/errors.py\", line 84, in run\n",
      "    code()\n",
      "  File \"/home/core/pp_sd/Stable/stable_diffusion/modules/devices.py\", line 63, in enable_tf32\n",
      "    if any(torch.cuda.get_device_capability(devid) == (7, 5) for devid in range(0, torch.cuda.device_count())):\n",
      "  File \"/home/core/pp_sd/Stable/stable_diffusion/modules/devices.py\", line 63, in <genexpr>\n",
      "    if any(torch.cuda.get_device_capability(devid) == (7, 5) for devid in range(0, torch.cuda.device_count())):\n",
      "  File \"/home/core/pp_sd/venv/lib/python3.10/site-packages/torch/cuda/__init__.py\", line 435, in get_device_capability\n",
      "    prop = get_device_properties(device)\n",
      "  File \"/home/core/pp_sd/venv/lib/python3.10/site-packages/torch/cuda/__init__.py\", line 449, in get_device_properties\n",
      "    _lazy_init()  # will define _get_device_properties\n",
      "  File \"/home/core/pp_sd/venv/lib/python3.10/site-packages/torch/cuda/__init__.py\", line 298, in _lazy_init\n",
      "    torch._C._cuda_init()\n",
      "RuntimeError: No HIP GPUs are available\n",
      "\n",
      "During handling of the above exception, another exception occurred:\n",
      "\n",
      "Traceback (most recent call last):\n",
      "  File \"/home/core/pp_sd/Stable/stable_diffusion/launch.py\", line 48, in <module>\n",
      "    main()\n",
      "  File \"/home/core/pp_sd/Stable/stable_diffusion/launch.py\", line 44, in main\n",
      "    start()\n",
      "  File \"/home/core/pp_sd/Stable/stable_diffusion/modules/launch_utils.py\", line 432, in start\n",
      "    import webui\n",
      "  File \"/home/core/pp_sd/Stable/stable_diffusion/webui.py\", line 13, in <module>\n",
      "    initialize.imports()\n",
      "  File \"/home/core/pp_sd/Stable/stable_diffusion/modules/initialize.py\", line 34, in imports\n",
      "    shared_init.initialize()\n",
      "  File \"/home/core/pp_sd/Stable/stable_diffusion/modules/shared_init.py\", line 17, in initialize\n",
      "    from modules import options, shared_options\n",
      "  File \"/home/core/pp_sd/Stable/stable_diffusion/modules/shared_options.py\", line 3, in <module>\n",
      "    from modules import localization, ui_components, shared_items, shared, interrogate, shared_gradio_themes\n",
      "  File \"/home/core/pp_sd/Stable/stable_diffusion/modules/interrogate.py\", line 13, in <module>\n",
      "    from modules import devices, paths, shared, lowvram, modelloader, errors\n",
      "  File \"/home/core/pp_sd/Stable/stable_diffusion/modules/devices.py\", line 70, in <module>\n",
      "    errors.run(enable_tf32, \"Enabling TF32\")\n",
      "  File \"/home/core/pp_sd/Stable/stable_diffusion/modules/errors.py\", line 86, in run\n",
      "    display(task, e)\n",
      "  File \"/home/core/pp_sd/Stable/stable_diffusion/modules/errors.py\", line 54, in display\n",
      "    te = traceback.TracebackException.from_exception(e)\n",
      "  File \"/usr/lib/python3.10/traceback.py\", line 572, in from_exception\n",
      "    return cls(type(exc), exc, exc.__traceback__, *args, **kwargs)\n",
      "AttributeError: 'str' object has no attribute '__traceback__'\n"
     ]
    }
   ],
   "source": [
    "from os import path, chdir\n",
    "from subprocess import call, check_output\n",
    "\n",
    "# Clear Paths\n",
    "if not path.exists('Stable'):\n",
    "    chdir(START_PATH)\n",
    "PROJECT_PATH=\"\"\n",
    "\n",
    "PROJECT_PATH = check_output(\"pwd\",).decode(\"utf-8\").replace(\"\\n\", \"\")\n",
    "VENV_PATH = path.join(PROJECT_PATH, 'venv')\n",
    "WORK_DIR = path.join(PROJECT_PATH, \"Stable\", \"stable_diffusion\")\n",
    "\n",
    "call(['chmod', '+x', f\"{VENV_PATH}/bin/activate\"])\n",
    "call(f\"{VENV_PATH}/bin/activate\", shell=True)\n",
    "chdir(WORK_DIR)\n",
    "\n",
    "PARAMS = \"--skip-torch-cuda-test --disable-console-progressbars --no-gradio-queue --no-hashing  --disable-safe-unpickle --api --no-download-sd-model --xformers --opt-sub-quad-attention --enable-insecure-extension-access --port 6006 --listen\"\n",
    "\n",
    "\n",
    "!python launch.py $PARAMS\n"
   ]
  },
  {
   "cell_type": "code",
   "execution_count": 50,
   "id": "59367390",
   "metadata": {},
   "outputs": [
    {
     "name": "stdout",
     "output_type": "stream",
     "text": [
      "python: /home/core/pp_sd/venv/bin/python\n"
     ]
    },
    {
     "data": {
      "text/plain": [
       "0"
      ]
     },
     "execution_count": 50,
     "metadata": {},
     "output_type": "execute_result"
    }
   ],
   "source": []
  }
 ],
 "metadata": {
  "kernelspec": {
   "display_name": "Python 3",
   "language": "python",
   "name": "python3"
  },
  "language_info": {
   "codemirror_mode": {
    "name": "ipython",
    "version": 3
   },
   "file_extension": ".py",
   "mimetype": "text/x-python",
   "name": "python",
   "nbconvert_exporter": "python",
   "pygments_lexer": "ipython3",
   "version": "3.10.12"
  }
 },
 "nbformat": 4,
 "nbformat_minor": 5
}
