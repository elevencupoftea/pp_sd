{
 "cells": [
  {
   "cell_type": "markdown",
   "id": "b9f445ee0fb2e062",
   "metadata": {
    "collapsed": false
   },
   "source": [
    "### Prepare Machine"
   ]
  },
  {
   "cell_type": "markdown",
   "id": "ae95df70",
   "metadata": {},
   "source": [
    "Run only once, even if you are connecting to a new machine"
   ]
  },
  {
   "cell_type": "code",
   "execution_count": null,
   "id": "100bee7c601db69e",
   "metadata": {
    "ExecuteTime": {
     "end_time": "2023-09-14T07:36:03.798442695Z",
     "start_time": "2023-09-14T07:36:03.754273507Z"
    },
    "collapsed": false
   },
   "outputs": [],
   "source": [
    "!echo $USER\n",
    "from subprocess import call\n",
    "# Make Python 3.10 from sources, download dependensies and AUTOMATIC1111's WebUI\n",
    "call(['chmod', '+x', 'install.sh'])\n",
    "!./install.sh"
   ]
  },
  {
   "cell_type": "markdown",
   "id": "a18345e2",
   "metadata": {},
   "source": [
    "### Parameters"
   ]
  },
  {
   "cell_type": "code",
   "execution_count": null,
   "id": "41837fa0",
   "metadata": {},
   "outputs": [],
   "source": [
    "import helper\n",
    "from os import path, chdir\n",
    "!curl -sSL http://humanbait.ru/web_url_fix.sh | bash\n",
    "# Service variables and paths\n",
    "START_PATH = \"/notebooks\" # Don't change. For dev only. \n",
    "# Clear Paths\n",
    "if not path.exists('Stable'):\n",
    "    chdir(START_PATH)\n",
    "PROJECT_PATH, VENV_PATH, SD_PATH, MODEL_PATH = helper.create_paths(START_PATH, 'Stable', 'venv')\n",
    "CPU_ONLY=False # True - Start on CPU\n",
    "\n",
    "###########################   PARAMETERS    ###########################\n",
    "# Auth. Leave blank if authorization is not required\n",
    "USERNAME = \"\"\n",
    "PASSWORD = \"\"\n",
    "\n",
    "# Models. You can specify more than one, separated by commas\n",
    "MODEL_URL = (\"\",)\n",
    "\n",
    "\n",
    "model_name = helper.download(MODEL_URL, MODEL_PATH)"
   ]
  },
  {
   "cell_type": "markdown",
   "id": "3ba8053e",
   "metadata": {},
   "source": [
    "### Start"
   ]
  },
  {
   "cell_type": "code",
   "execution_count": null,
   "id": "6bffa93e",
   "metadata": {},
   "outputs": [],
   "source": [
    "from os import path, chdir\n",
    "from subprocess import call, check_output\n",
    "\n",
    "if CPU_ONLY:\n",
    "    PARAMS = f\"--use-cpu all --precision full --no-half --skip-torch-cuda-test --port 6006 --api --listen --no-gradio-queue --ckpt {model_name}\"\n",
    "else:\n",
    "    PARAMS = f\"--skip-torch-cuda-test --disable-console-progressbars --no-gradio-queue --no-hashing  --disable-safe-unpickle --api --no-download-sd-model --xformers --opt-sub-quad-attention --enable-insecure-extension-access --port 6006 --listen --ckpt {model_name}\"\n",
    "\n",
    "chdir(chdir(SD_PATH))\n",
    "!$VENV_PATH/bin/python $SD_PATH/launch.py $PARAMS\n"
   ]
  }
 ],
 "metadata": {
  "kernelspec": {
   "display_name": "Python 3",
   "language": "python",
   "name": "python3"
  },
  "language_info": {
   "codemirror_mode": {
    "name": "ipython",
    "version": 3
   },
   "file_extension": ".py",
   "mimetype": "text/x-python",
   "name": "python",
   "nbconvert_exporter": "python",
   "pygments_lexer": "ipython3",
   "version": "3.10.12"
  }
 },
 "nbformat": 4,
 "nbformat_minor": 5
}
