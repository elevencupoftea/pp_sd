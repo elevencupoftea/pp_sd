{
 "cells": [
  {
   "cell_type": "markdown",
   "id": "b9f445ee0fb2e062",
   "metadata": {
    "collapsed": false
   },
   "source": [
    "# Prepare Machine"
   ]
  },
  {
   "cell_type": "code",
   "execution_count": null,
   "id": "100bee7c601db69e",
   "metadata": {
    "ExecuteTime": {
     "end_time": "2023-09-14T07:36:03.798442695Z",
     "start_time": "2023-09-14T07:36:03.754273507Z"
    },
    "collapsed": false
   },
   "outputs": [],
   "source": [
    "from subprocess import call\n",
    "call(\"./install.sh\", shell=True)"
   ]
  },
  {
   "cell_type": "markdown",
   "id": "3ba8053e",
   "metadata": {},
   "source": [
    "## Start"
   ]
  },
  {
   "cell_type": "markdown",
   "id": "a18345e2",
   "metadata": {},
   "source": [
    "### Parameters"
   ]
  },
  {
   "cell_type": "code",
   "execution_count": 74,
   "id": "41837fa0",
   "metadata": {},
   "outputs": [],
   "source": [
    "START_PATH = \"/notebooks\" # Don't change. For dev only. "
   ]
  },
  {
   "cell_type": "code",
   "execution_count": null,
   "id": "6bffa93e",
   "metadata": {},
   "outputs": [],
   "source": [
    "from os import path, chdir\n",
    "from subprocess import call, check_output\n",
    "\n",
    "# Clear Paths\n",
    "if not path.exists('Stable'):\n",
    "    chdir(START_PATH)\n",
    "PROJECT_PATH=\"\"\n",
    "\n",
    "PROJECT_PATH = path.join(START_PATH, 'Stable', 'stable_diffusion')\n",
    "VENV_PATH = path.join(START_PATH, 'venv')\n",
    "print(PROJECT_PATH, VENV_PATH)\n",
    "\n",
    "# call(['chmod', '+x', f\"{VENV_PATH}/bin/activate\"])\n",
    "# call(f\"{VENV_PATH}/bin/activate\", shell=True)\n",
    "# chdir(WORK_DIR)\n",
    "\n",
    "# PARAMS = \"--skip-torch-cuda-test --disable-console-progressbars --no-gradio-queue --no-hashing  --disable-safe-unpickle --api --no-download-sd-model --xformers --opt-sub-quad-attention --enable-insecure-extension-access --port 6006 --listen\"\n",
    "\n",
    "\n",
    "!python launch.py $PARAMS\n"
   ]
  },
  {
   "cell_type": "code",
   "execution_count": 50,
   "id": "59367390",
   "metadata": {},
   "outputs": [
    {
     "name": "stdout",
     "output_type": "stream",
     "text": [
      "python: /home/core/pp_sd/venv/bin/python\n"
     ]
    },
    {
     "data": {
      "text/plain": [
       "0"
      ]
     },
     "execution_count": 50,
     "metadata": {},
     "output_type": "execute_result"
    }
   ],
   "source": []
  }
 ],
 "metadata": {
  "kernelspec": {
   "display_name": "Python 3",
   "language": "python",
   "name": "python3"
  },
  "language_info": {
   "codemirror_mode": {
    "name": "ipython",
    "version": 3
   },
   "file_extension": ".py",
   "mimetype": "text/x-python",
   "name": "python",
   "nbconvert_exporter": "python",
   "pygments_lexer": "ipython3",
   "version": "3.10.12"
  }
 },
 "nbformat": 4,
 "nbformat_minor": 5
}
