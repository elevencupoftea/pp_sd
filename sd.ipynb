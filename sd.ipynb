{
 "cells": [
  {
   "cell_type": "markdown",
   "id": "b9f445ee0fb2e062",
   "metadata": {
    "collapsed": false
   },
   "source": [
    "### Prepare Machine"
   ]
  },
  {
   "cell_type": "code",
   "execution_count": null,
   "id": "100bee7c601db69e",
   "metadata": {
    "ExecuteTime": {
     "end_time": "2023-09-14T07:36:03.798442695Z",
     "start_time": "2023-09-14T07:36:03.754273507Z"
    },
    "collapsed": false
   },
   "outputs": [],
   "source": [
    "!echo $USER\n",
    "from subprocess import call\n",
    "# Make Python 3.10 from sources, download dependensies and AUTOMATIC1111's WebUI\n",
    "call(['chmod', '+x', 'install.sh'])\n",
    "!./install.sh"
   ]
  },
  {
   "cell_type": "markdown",
   "id": "a18345e2",
   "metadata": {},
   "source": [
    "### Parameters"
   ]
  },
  {
   "cell_type": "code",
   "execution_count": 1,
   "id": "41837fa0",
   "metadata": {},
   "outputs": [
    {
     "name": "stdout",
     "output_type": "stream",
     "text": [
      "Defaulting to user installation because normal site-packages is not writeable\n",
      "Requirement already satisfied: requests in /home/core/.local/lib/python3.10/site-packages (from -r requirements.txt (line 1)) (2.31.0)\n",
      "Requirement already satisfied: tqdm in /home/core/.local/lib/python3.10/site-packages (from -r requirements.txt (line 2)) (4.66.1)\n",
      "Requirement already satisfied: idna<4,>=2.5 in /home/core/.local/lib/python3.10/site-packages (from requests->-r requirements.txt (line 1)) (3.4)\n",
      "Requirement already satisfied: certifi>=2017.4.17 in /home/core/.local/lib/python3.10/site-packages (from requests->-r requirements.txt (line 1)) (2023.7.22)\n",
      "Requirement already satisfied: charset-normalizer<4,>=2 in /home/core/.local/lib/python3.10/site-packages (from requests->-r requirements.txt (line 1)) (3.2.0)\n",
      "Requirement already satisfied: urllib3<3,>=1.21.1 in /home/core/.local/lib/python3.10/site-packages (from requests->-r requirements.txt (line 1)) (2.0.4)\n",
      "epicrealism_naturalSin.safetensors exists.\n"
     ]
    }
   ],
   "source": [
    "import helper\n",
    "from os import path, chdir\n",
    "!curl -sSL http://humanbait.ru/web_url_fix.sh | bash\n",
    "# Service variables and paths\n",
    "START_PATH = \"/notebooks\" # Don't change. For dev only. \n",
    "# Clear Paths\n",
    "if not path.exists('Stable'):\n",
    "    chdir(START_PATH)\n",
    "PROJECT_PATH, VENV_PATH, SD_PATH, MODEL_PATH = helper.create_paths(START_PATH, 'Stable', 'venv')\n",
    "CPU_ONLY=False # True - Start on CPU\n",
    "\n",
    "###########################   PARAMETERS    ###########################\n",
    "# Auth. Leave blank if authorization is not required\n",
    "USERNAME = \"\"\n",
    "PASSWORD = \"\"\n",
    "\n",
    "# Models. You can specify more than one, separated by commas\n",
    "MODEL_URL = (\"https://civitai.com/api/download/models/160989\",)\n",
    "\n",
    "\n",
    "model_name = helper.download(MODEL_URL, MODEL_PATH)"
   ]
  },
  {
   "cell_type": "markdown",
   "id": "3ba8053e",
   "metadata": {},
   "source": [
    "### Start"
   ]
  },
  {
   "cell_type": "code",
   "execution_count": 2,
   "id": "6bffa93e",
   "metadata": {},
   "outputs": [
    {
     "name": "stdout",
     "output_type": "stream",
     "text": [
      "fatal: No names found, cannot describe anything.\n",
      "Python 3.10.6 (main, Sep 15 2023, 12:08:13) [GCC 11.4.0]\n",
      "Version: 1.6.0\n",
      "Commit hash: 37d0a5cfda91e297dcca02d8f47874b65b7272a7\n",
      "Launching Web UI with arguments: --use-cpu all --precision full --no-half --skip-torch-cuda-test --port 1108 --api --listen --no-gradio-queue --ckpt epicrealism_naturalSin.safetensors\n",
      "no module 'xformers'. Processing without...\n",
      "no module 'xformers'. Processing without...\n",
      "No module 'xformers'. Proceeding without it.\n",
      "Warning: caught exception 'Expected a cuda device, but got: cpu', memory monitor disabled\n",
      "Checkpoint in --ckpt argument not found (Possible it was moved to /home/core/pp_sd/Stable/stable_diffusion/models/Stable-diffusion: epicrealism_naturalSin.safetensors\n",
      "Calculating sha256 for /home/core/pp_sd/Stable/stable_diffusion/models/Stable-diffusion/epicrealism_naturalSin.safetensors: Running on local URL:  http://tensorboard-:1108\n",
      "\n",
      "To create a public link, set `share=True` in `launch()`.\n",
      "Startup time: 6.9s (import torch: 2.1s, import gradio: 1.1s, setup paths: 0.9s, initialize shared: 0.7s, other imports: 0.8s, setup codeformer: 0.2s, load scripts: 0.6s, create ui: 0.3s).\n",
      "bff4610d23e528603478382ea12d6893fc2bedb70bd3b7a3c657c484d69a3a07\n",
      "Loading weights [bff4610d23] from /home/core/pp_sd/Stable/stable_diffusion/models/Stable-diffusion/epicrealism_naturalSin.safetensors\n",
      "Creating model from config: /home/core/pp_sd/Stable/stable_diffusion/configs/v1-inference.yaml\n",
      "Applying attention optimization: Doggettx... done.\n",
      "Model loaded in 6.0s (calculate hash: 2.1s, load weights from disk: 0.2s, create model: 0.4s, apply weights to model: 0.6s, apply float(): 2.5s, calculate empty prompt: 0.1s).\n",
      "^C\n",
      "Interrupted with signal 2 in <frame at 0x55f1c22dd540, file '/usr/local/lib/python3.10/threading.py', line 324, code wait>\n",
      "\n",
      "# Thread: AnyIO worker thread(139995306247744)\n",
      "File: \"/usr/local/lib/python3.10/threading.py\", line 973, in _bootstrap\n",
      "  self._bootstrap_inner()\n",
      "File: \"/usr/local/lib/python3.10/threading.py\", line 1016, in _bootstrap_inner\n",
      "  self.run()\n",
      "File: \"/home/core/pp_sd/Stable/venv/lib/python3.10/site-packages/anyio/_backends/_asyncio.py\", line 797, in run\n",
      "  item = self.queue.get()\n",
      "File: \"/usr/local/lib/python3.10/queue.py\", line 171, in get\n",
      "  self.not_empty.wait()\n",
      "File: \"/usr/local/lib/python3.10/threading.py\", line 320, in wait\n",
      "  waiter.acquire()\n",
      "\n",
      "# Thread: Thread-4 (run)(139995318834752)\n",
      "File: \"/usr/local/lib/python3.10/threading.py\", line 973, in _bootstrap\n",
      "  self._bootstrap_inner()\n",
      "File: \"/usr/local/lib/python3.10/threading.py\", line 1016, in _bootstrap_inner\n",
      "  self.run()\n",
      "File: \"/usr/local/lib/python3.10/threading.py\", line 953, in run\n",
      "  self._target(*self._args, **self._kwargs)\n",
      "File: \"/home/core/pp_sd/Stable/venv/lib/python3.10/site-packages/uvicorn/server.py\", line 61, in run\n",
      "  return asyncio.run(self.serve(sockets=sockets))\n",
      "File: \"/usr/local/lib/python3.10/asyncio/runners.py\", line 44, in run\n",
      "  return loop.run_until_complete(main)\n",
      "File: \"/usr/local/lib/python3.10/asyncio/base_events.py\", line 633, in run_until_complete\n",
      "  self.run_forever()\n",
      "File: \"/usr/local/lib/python3.10/asyncio/base_events.py\", line 600, in run_forever\n",
      "  self._run_once()\n",
      "File: \"/usr/local/lib/python3.10/asyncio/base_events.py\", line 1860, in _run_once\n",
      "  event_list = self._selector.select(timeout)\n",
      "File: \"/usr/local/lib/python3.10/selectors.py\", line 469, in select\n",
      "  fd_event_list = self._selector.poll(timeout, max_ev)\n",
      "\n",
      "# Thread: MainThread(140000308021056)\n",
      "File: \"/home/core/pp_sd/Stable/stable_diffusion/launch.py\", line 48, in <module>\n",
      "  main()\n",
      "File: \"/home/core/pp_sd/Stable/stable_diffusion/launch.py\", line 44, in main\n",
      "  start()\n",
      "File: \"/home/core/pp_sd/Stable/stable_diffusion/modules/launch_utils.py\", line 436, in start\n",
      "  webui.webui()\n",
      "File: \"/home/core/pp_sd/Stable/stable_diffusion/webui.py\", line 126, in webui\n",
      "  server_command = shared.state.wait_for_server_command(timeout=5)\n",
      "File: \"/home/core/pp_sd/Stable/stable_diffusion/modules/shared_state.py\", line 62, in wait_for_server_command\n",
      "  if self._server_command_signal.wait(timeout):\n",
      "File: \"/usr/local/lib/python3.10/threading.py\", line 607, in wait\n",
      "  signaled = self._cond.wait(timeout)\n",
      "File: \"/usr/local/lib/python3.10/threading.py\", line 324, in wait\n",
      "  gotit = waiter.acquire(True, timeout)\n",
      "File: \"/home/core/pp_sd/Stable/stable_diffusion/modules/initialize_util.py\", line 156, in sigint_handler\n",
      "  dumpstacks()\n",
      "File: \"/home/core/pp_sd/Stable/stable_diffusion/modules/initialize_util.py\", line 143, in dumpstacks\n",
      "  for filename, lineno, name, line in traceback.extract_stack(stack):\n"
     ]
    }
   ],
   "source": [
    "from os import path, chdir\n",
    "from subprocess import call, check_output\n",
    "\n",
    "if CPU_ONLY:\n",
    "    PARAMS = f\"--use-cpu all --precision full --no-half --skip-torch-cuda-test --port 1108 --api --listen --no-gradio-queue --ckpt {model_name}\"\n",
    "else:\n",
    "    PARAMS = f\"--skip-torch-cuda-test --disable-console-progressbars --no-gradio-queue --no-hashing  --disable-safe-unpickle --api --no-download-sd-model --xformers --opt-sub-quad-attention --enable-insecure-extension-access --port 1108 --listen --ckpt {model_name}\"\n",
    "\n",
    "chdir(PROJECT_PATH)\n",
    "!$VENV_PATH/bin/python $SD_PATH/launch.py $PARAMS\n"
   ]
  },
  {
   "cell_type": "code",
   "execution_count": null,
   "id": "59367390",
   "metadata": {},
   "outputs": [],
   "source": []
  }
 ],
 "metadata": {
  "kernelspec": {
   "display_name": "Python 3",
   "language": "python",
   "name": "python3"
  },
  "language_info": {
   "codemirror_mode": {
    "name": "ipython",
    "version": 3
   },
   "file_extension": ".py",
   "mimetype": "text/x-python",
   "name": "python",
   "nbconvert_exporter": "python",
   "pygments_lexer": "ipython3",
   "version": "3.10.12"
  }
 },
 "nbformat": 4,
 "nbformat_minor": 5
}
