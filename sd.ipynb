{
 "cells": [
  {
   "cell_type": "markdown",
   "id": "b9f445ee0fb2e062",
   "metadata": {
    "collapsed": false
   },
   "source": [
    "### Prepare Machine"
   ]
  },
  {
   "cell_type": "code",
   "execution_count": null,
   "id": "100bee7c601db69e",
   "metadata": {
    "ExecuteTime": {
     "end_time": "2023-09-14T07:36:03.798442695Z",
     "start_time": "2023-09-14T07:36:03.754273507Z"
    },
    "collapsed": false
   },
   "outputs": [],
   "source": [
    "from subprocess import call\n",
    "# Make Python 3.10 from sources, download dependensies and AUTOMATIC1111's WebUI\n",
    "call(['chmod', '+x', 'install.sh'])\n",
    "!./install.sh"
   ]
  },
  {
   "cell_type": "markdown",
   "id": "a18345e2",
   "metadata": {},
   "source": [
    "### Parameters"
   ]
  },
  {
   "cell_type": "code",
   "execution_count": 16,
   "id": "41837fa0",
   "metadata": {},
   "outputs": [],
   "source": [
    "START_PATH = \"/notebooks\" # Don't change. For dev only. \n",
    "START_PATH = \"/home/core/pp_sd/\" # Don't change. For dev only. \n",
    "CPU_ONLY=False # True - Start on CPU\n"
   ]
  },
  {
   "cell_type": "markdown",
   "id": "3ba8053e",
   "metadata": {},
   "source": [
    "### Start"
   ]
  },
  {
   "cell_type": "code",
   "execution_count": 17,
   "id": "6bffa93e",
   "metadata": {},
   "outputs": [
    {
     "name": "stdout",
     "output_type": "stream",
     "text": [
      "/home/core/pp_sd/Stable/stable_diffusion /home/core/pp_sd/Stable/venv\n",
      "Python 3.10.6 (main, Sep 15 2023, 08:21:36) [GCC 11.4.0]\n",
      "Version: v1.6.0\n",
      "Commit hash: 5ef669de080814067961f28357256e8fe27544f4\n",
      "Launching Web UI with arguments: --use-cpu all --precision full --no-half --skip-torch-cuda-test --port 1108 --api --listen\n",
      "No module 'xformers'. Proceeding without it.\n",
      "Warning: caught exception 'Expected a cuda device, but got: cpu', memory monitor disabled\n",
      "Loading weights [6ce0161689] from /home/core/pp_sd/Stable/stable_diffusion/models/Stable-diffusion/v1-5-pruned-emaonly.safetensors\n",
      "Running on local URL:  http://0.0.0.0:1108\n",
      "\n",
      "To create a public link, set `share=True` in `launch()`.\n",
      "Startup time: 5.9s (import torch: 2.0s, import gradio: 0.6s, setup paths: 0.8s, initialize shared: 0.4s, other imports: 0.8s, setup codeformer: 0.1s, load scripts: 0.5s, create ui: 0.4s, gradio launch: 0.2s).\n",
      "Creating model from config: /home/core/pp_sd/Stable/stable_diffusion/configs/v1-inference.yaml\n",
      "Applying attention optimization: Doggettx... done.\n",
      "Model loaded in 8.0s (load weights from disk: 0.8s, load config: 0.2s, create model: 0.3s, apply weights to model: 6.0s, load weights from state dict: 0.2s, hijack: 0.1s, load textual inversion embeddings: 0.1s, calculate empty prompt: 0.2s).\n",
      "^C\n",
      "Interrupted with signal 2 in <frame at 0x7fe8f400b530, file '/usr/local/lib/python3.10/threading.py', line 324, code wait>\n",
      "\n",
      "# Thread: asyncio_0(140638611818048)\n",
      "File: \"/usr/local/lib/python3.10/threading.py\", line 973, in _bootstrap\n",
      "  self._bootstrap_inner()\n",
      "File: \"/usr/local/lib/python3.10/threading.py\", line 1016, in _bootstrap_inner\n",
      "  self.run()\n",
      "File: \"/usr/local/lib/python3.10/threading.py\", line 953, in run\n",
      "  self._target(*self._args, **self._kwargs)\n",
      "File: \"/usr/local/lib/python3.10/concurrent/futures/thread.py\", line 81, in _worker\n",
      "  work_item = work_queue.get(block=True)\n",
      "\n",
      "# Thread: AnyIO worker thread(140638728209984)\n",
      "File: \"/usr/local/lib/python3.10/threading.py\", line 973, in _bootstrap\n",
      "  self._bootstrap_inner()\n",
      "File: \"/usr/local/lib/python3.10/threading.py\", line 1016, in _bootstrap_inner\n",
      "  self.run()\n",
      "File: \"/home/core/pp_sd/Stable/venv/lib/python3.10/site-packages/anyio/_backends/_asyncio.py\", line 797, in run\n",
      "  item = self.queue.get()\n",
      "File: \"/usr/local/lib/python3.10/queue.py\", line 171, in get\n",
      "  self.not_empty.wait()\n",
      "File: \"/usr/local/lib/python3.10/threading.py\", line 320, in wait\n",
      "  waiter.acquire()\n",
      "\n",
      "# Thread: AnyIO worker thread(140638620210752)\n",
      "File: \"/usr/local/lib/python3.10/threading.py\", line 973, in _bootstrap\n",
      "  self._bootstrap_inner()\n",
      "File: \"/usr/local/lib/python3.10/threading.py\", line 1016, in _bootstrap_inner\n",
      "  self.run()\n",
      "File: \"/home/core/pp_sd/Stable/venv/lib/python3.10/site-packages/anyio/_backends/_asyncio.py\", line 797, in run\n",
      "  item = self.queue.get()\n",
      "File: \"/usr/local/lib/python3.10/queue.py\", line 171, in get\n",
      "  self.not_empty.wait()\n",
      "File: \"/usr/local/lib/python3.10/threading.py\", line 320, in wait\n",
      "  waiter.acquire()\n",
      "\n",
      "# Thread: AnyIO worker thread(140638719817280)\n",
      "File: \"/usr/local/lib/python3.10/threading.py\", line 973, in _bootstrap\n",
      "  self._bootstrap_inner()\n",
      "File: \"/usr/local/lib/python3.10/threading.py\", line 1016, in _bootstrap_inner\n",
      "  self.run()\n",
      "File: \"/home/core/pp_sd/Stable/venv/lib/python3.10/site-packages/anyio/_backends/_asyncio.py\", line 797, in run\n",
      "  item = self.queue.get()\n",
      "File: \"/usr/local/lib/python3.10/queue.py\", line 171, in get\n",
      "  self.not_empty.wait()\n",
      "File: \"/usr/local/lib/python3.10/threading.py\", line 320, in wait\n",
      "  waiter.acquire()\n",
      "\n",
      "# Thread: AnyIO worker thread(140638628603456)\n",
      "File: \"/usr/local/lib/python3.10/threading.py\", line 973, in _bootstrap\n",
      "  self._bootstrap_inner()\n",
      "File: \"/usr/local/lib/python3.10/threading.py\", line 1016, in _bootstrap_inner\n",
      "  self.run()\n",
      "File: \"/home/core/pp_sd/Stable/venv/lib/python3.10/site-packages/anyio/_backends/_asyncio.py\", line 797, in run\n",
      "  item = self.queue.get()\n",
      "File: \"/usr/local/lib/python3.10/queue.py\", line 171, in get\n",
      "  self.not_empty.wait()\n",
      "File: \"/usr/local/lib/python3.10/threading.py\", line 320, in wait\n",
      "  waiter.acquire()\n",
      "\n",
      "# Thread: AnyIO worker thread(140638636996160)\n",
      "File: \"/usr/local/lib/python3.10/threading.py\", line 973, in _bootstrap\n",
      "  self._bootstrap_inner()\n",
      "File: \"/usr/local/lib/python3.10/threading.py\", line 1016, in _bootstrap_inner\n",
      "  self.run()\n",
      "File: \"/home/core/pp_sd/Stable/venv/lib/python3.10/site-packages/anyio/_backends/_asyncio.py\", line 797, in run\n",
      "  item = self.queue.get()\n",
      "File: \"/usr/local/lib/python3.10/queue.py\", line 171, in get\n",
      "  self.not_empty.wait()\n",
      "File: \"/usr/local/lib/python3.10/threading.py\", line 320, in wait\n",
      "  waiter.acquire()\n",
      "\n",
      "# Thread: AnyIO worker thread(140638756525632)\n",
      "File: \"/usr/local/lib/python3.10/threading.py\", line 973, in _bootstrap\n",
      "  self._bootstrap_inner()\n",
      "File: \"/usr/local/lib/python3.10/threading.py\", line 1016, in _bootstrap_inner\n",
      "  self.run()\n",
      "File: \"/home/core/pp_sd/Stable/venv/lib/python3.10/site-packages/anyio/_backends/_asyncio.py\", line 797, in run\n",
      "  item = self.queue.get()\n",
      "File: \"/usr/local/lib/python3.10/queue.py\", line 171, in get\n",
      "  self.not_empty.wait()\n",
      "File: \"/usr/local/lib/python3.10/threading.py\", line 320, in wait\n",
      "  waiter.acquire()\n",
      "\n",
      "# Thread: Thread-4 (run)(140638770161216)\n",
      "File: \"/usr/local/lib/python3.10/threading.py\", line 973, in _bootstrap\n",
      "  self._bootstrap_inner()\n",
      "File: \"/usr/local/lib/python3.10/threading.py\", line 1016, in _bootstrap_inner\n",
      "  self.run()\n",
      "File: \"/usr/local/lib/python3.10/threading.py\", line 953, in run\n",
      "  self._target(*self._args, **self._kwargs)\n",
      "File: \"/home/core/pp_sd/Stable/venv/lib/python3.10/site-packages/uvicorn/server.py\", line 61, in run\n",
      "  return asyncio.run(self.serve(sockets=sockets))\n",
      "File: \"/usr/local/lib/python3.10/asyncio/runners.py\", line 44, in run\n",
      "  return loop.run_until_complete(main)\n",
      "File: \"/usr/local/lib/python3.10/asyncio/base_events.py\", line 633, in run_until_complete\n",
      "  self.run_forever()\n",
      "File: \"/usr/local/lib/python3.10/asyncio/base_events.py\", line 600, in run_forever\n",
      "  self._run_once()\n",
      "File: \"/usr/local/lib/python3.10/asyncio/base_events.py\", line 1897, in _run_once\n",
      "  handle = None  # Needed to break cycles when an exception occurs.\n",
      "File: \"/usr/local/lib/python3.10/selectors.py\", line 482, in select\n",
      "  return ready\n",
      "\n",
      "# Thread: MainThread(140644028360512)\n",
      "File: \"/home/core/pp_sd/Stable/stable_diffusion/launch.py\", line 48, in <module>\n",
      "  main()\n",
      "File: \"/home/core/pp_sd/Stable/stable_diffusion/launch.py\", line 44, in main\n",
      "  start()\n",
      "File: \"/home/core/pp_sd/Stable/stable_diffusion/modules/launch_utils.py\", line 436, in start\n",
      "  webui.webui()\n",
      "File: \"/home/core/pp_sd/Stable/stable_diffusion/webui.py\", line 126, in webui\n",
      "  server_command = shared.state.wait_for_server_command(timeout=5)\n",
      "File: \"/home/core/pp_sd/Stable/stable_diffusion/modules/shared_state.py\", line 62, in wait_for_server_command\n",
      "  if self._server_command_signal.wait(timeout):\n",
      "File: \"/usr/local/lib/python3.10/threading.py\", line 607, in wait\n",
      "  signaled = self._cond.wait(timeout)\n",
      "File: \"/usr/local/lib/python3.10/threading.py\", line 324, in wait\n",
      "  gotit = waiter.acquire(True, timeout)\n",
      "File: \"/home/core/pp_sd/Stable/stable_diffusion/modules/initialize_util.py\", line 156, in sigint_handler\n",
      "  dumpstacks()\n",
      "File: \"/home/core/pp_sd/Stable/stable_diffusion/modules/initialize_util.py\", line 143, in dumpstacks\n",
      "  for filename, lineno, name, line in traceback.extract_stack(stack):\n"
     ]
    }
   ],
   "source": [
    "from os import path, chdir\n",
    "from subprocess import call, check_output\n",
    "\n",
    "# Clear Paths\n",
    "if not path.exists('Stable'):\n",
    "    chdir(START_PATH)\n",
    "PROJECT_PATH=\"\"\n",
    "\n",
    "PROJECT_PATH = path.join(START_PATH, 'Stable', 'stable_diffusion')\n",
    "VENV_PATH = path.join(START_PATH, 'Stable', 'venv')\n",
    "print(PROJECT_PATH, VENV_PATH)\n",
    "\n",
    "# call(['chmod', '+x', f\"{VENV_PATH}/bin/activate\"])\n",
    "# call(f\"{VENV_PATH}/bin/activate\", shell=True)\n",
    "# chdir(WORK_DIR)\n",
    "\n",
    "if CPU_ONLY:\n",
    "    PARAMS = \"--use-cpu all --precision full --no-half --skip-torch-cuda-test --port 1108 --api --listen\"\n",
    "else:\n",
    "    PARAMS = \"--skip-torch-cuda-test --disable-console-progressbars --no-gradio-queue --no-hashing  --disable-safe-unpickle --api --no-download-sd-model --xformers --opt-sub-quad-attention --enable-insecure-extension-access --port 6006 --listen\"\n",
    "\n",
    "chdir(PROJECT_PATH)\n",
    "!$VENV_PATH/bin/python $PROJECT_PATH/launch.py $PARAMS\n"
   ]
  },
  {
   "cell_type": "code",
   "execution_count": 50,
   "id": "59367390",
   "metadata": {},
   "outputs": [
    {
     "name": "stdout",
     "output_type": "stream",
     "text": [
      "python: /home/core/pp_sd/venv/bin/python\n"
     ]
    },
    {
     "data": {
      "text/plain": [
       "0"
      ]
     },
     "execution_count": 50,
     "metadata": {},
     "output_type": "execute_result"
    }
   ],
   "source": []
  }
 ],
 "metadata": {
  "kernelspec": {
   "display_name": "Python 3",
   "language": "python",
   "name": "python3"
  },
  "language_info": {
   "codemirror_mode": {
    "name": "ipython",
    "version": 3
   },
   "file_extension": ".py",
   "mimetype": "text/x-python",
   "name": "python",
   "nbconvert_exporter": "python",
   "pygments_lexer": "ipython3",
   "version": "3.10.12"
  }
 },
 "nbformat": 4,
 "nbformat_minor": 5
}
